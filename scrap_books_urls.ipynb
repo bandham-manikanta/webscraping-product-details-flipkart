{
 "cells": [
  {
   "cell_type": "code",
   "execution_count": 1,
   "metadata": {},
   "outputs": [],
   "source": [
    "import bs4, requests as req\n",
    "from selenium import webdriver\n",
    "from selenium.common.exceptions import WebDriverException\n",
    "from selenium.webdriver.support.ui import WebDriverWait\n",
    "from selenium.webdriver.support import expected_conditions as EC\n",
    "from selenium.webdriver.common.by import By\n",
    "import time\n",
    "from bs4 import BeautifulSoup\n",
    "import requests"
   ]
  },
  {
   "cell_type": "code",
   "execution_count": 2,
   "metadata": {},
   "outputs": [],
   "source": [
    "def land_on_books_main_page_js(driver):\n",
    "    js_script = \"\"\"var menu_tags = Array.from(document.getElementsByTagName('span'));\n",
    "    menu_tags = menu_tags.filter(a=>a.innerText==='Sports, Books & More');\n",
    "    menu_tags.forEach(function(tag){\n",
    "    let tag_name = tag.textContent;\n",
    "    if(tag_name==='Sports, Books & More'){\n",
    "        tag.addEventListener('mouseover', function() {\n",
    "        let books_tags = Array.from(document.getElementsByTagName('a'));\n",
    "        books_tags.forEach(function(b_tag){\n",
    "\t\t\t\tif(b_tag.textContent==='Books'){\n",
    "\t\t\t\t\tb_tag.click();\n",
    "\t\t\t\t}\n",
    "\t\t\t});\n",
    "\t\t});\n",
    "var event = new MouseEvent('mouseover', {\n",
    "  'view': window,\n",
    "  'bubbles': true,\n",
    "  'cancelable': true\n",
    "\t});\n",
    "tag.dispatchEvent(event);\n",
    "\t}\n",
    "});\n",
    "\"\"\";\n",
    "    driver.execute_script(js_script);\n",
    "    \n",
    "def find_element_by_class_wait(driver,class_name):\n",
    "    element = WebDriverWait(driver,30).until(EC.presence_of_element_located((By.CLASS_NAME,class_name)));\n",
    "    return element;\n",
    "\n",
    "def find_elements_by_class_wait(driver,class_name):\n",
    "    elements = WebDriverWait(driver,30).until(EC.presence_of_all_elements_located((By.CLASS_NAME,class_name)));\n",
    "    return elements;\n",
    "\n",
    "# method to click on 'show more' to expand the books genes list\n",
    "def expand_genre_list(driver): \n",
    "    driver.execute_script(\"\"\"showBtn = Array.from(document.getElementsByClassName('_3aoPnm')[0].getElementsByTagName('span')).filter(function(a){\n",
    "\tif(a.textContent){\n",
    "\t\treturn a.textContent.startsWith('Show') && a.textContent.endsWith('more');\n",
    "\t}})[0];\n",
    "    if(showBtn){\n",
    "        showBtn.click();\n",
    "    }\n",
    "\"\"\")\n",
    "    \n",
    "def wait_till_page_loads_completely(driver):\n",
    "    page_state = driver.execute_script('return document.readyState;');\n",
    "    print('page_state',page_state)\n",
    "    while page_state != 'complete':\n",
    "        print('in wait method')\n",
    "        time.sleep(1)"
   ]
  },
  {
   "cell_type": "code",
   "execution_count": 3,
   "metadata": {},
   "outputs": [],
   "source": [
    "options = webdriver.ChromeOptions()\n",
    "options.add_argument(\"--start-maximized\")\n",
    "driver = webdriver.Chrome(executable_path=\"chromedriver.exe\",options=options)\n",
    "driver.get('https://www.flipkart.com/')\n",
    "driver.find_element_by_xpath(\"//button[@class='_2AkmmA _29YdH8']\").click();"
   ]
  },
  {
   "cell_type": "code",
   "execution_count": 4,
   "metadata": {},
   "outputs": [],
   "source": [
    "land_on_books_main_page_js(driver)\n",
    "time.sleep(5)\n",
    "expand_genre_list(driver)"
   ]
  },
  {
   "cell_type": "code",
   "execution_count": 5,
   "metadata": {},
   "outputs": [
    {
     "data": {
      "text/plain": [
       "[('History and Archaeology Books',\n",
       "  'https://www.flipkart.com/books/history-and-archaeology-books/pr?sid=bks,9xa&otracker=categorytree',\n",
       "  2000),\n",
       " ('Literature Books',\n",
       "  'https://www.flipkart.com/books/literature-books/pr?sid=bks,w4n&otracker=categorytree',\n",
       "  2000),\n",
       " ('Healthy Living and Wellness Books',\n",
       "  'https://www.flipkart.com/books/healthy-living-and-wellness-books/pr?sid=bks,4z4&otracker=categorytree',\n",
       "  1000),\n",
       " ('Biographies, Memoirs and General Non-Ficton Books',\n",
       "  'https://www.flipkart.com/books/biographies-memoirs-and-general-nonficton-books/pr?sid=bks,wmz&otracker=categorytree',\n",
       "  1000),\n",
       " ('Self-Help Books',\n",
       "  'https://www.flipkart.com/books/selfhelp-books/pr?sid=bks,5uw&otracker=categorytree',\n",
       "  2000),\n",
       " ('Philosophy and Religion Books',\n",
       "  'https://www.flipkart.com/books/philosophy-and-religion-books/pr?sid=bks,sqa&otracker=categorytree',\n",
       "  1000),\n",
       " ('Arts, Language and Linguistic Books',\n",
       "  'https://www.flipkart.com/books/arts-language-and-linguistic-books/pr?sid=bks,mzb&otracker=categorytree',\n",
       "  1000),\n",
       " ('Fiction Books',\n",
       "  'https://www.flipkart.com/books/fiction-books/pr?sid=bks,wbi&otracker=categorytree',\n",
       "  2000)]"
      ]
     },
     "execution_count": 5,
     "metadata": {},
     "output_type": "execute_result"
    }
   ],
   "source": [
    "#find the link for given genres\n",
    "book_genre_a_tags = driver.find_elements_by_class_name('_2SvCnW')\n",
    "req_genres = {'History and Archaeology Books':2000,\n",
    "              'Literature Books':2000,'Healthy Living and Wellness Books':1000,\n",
    "              'Biographies, Memoirs and General Non-Ficton Books':1000,\n",
    "              'Self-Help Books':2000,'Philosophy and Religion Books':1000,\n",
    "              'Arts, Language and Linguistic Books':1000,'Fiction Books':2000}\n",
    "\n",
    "genre_and_links_and_count = list()\n",
    "for tag in book_genre_a_tags:\n",
    "    tag_name = tag.get_attribute('text')\n",
    "    if(tag_name in list(req_genres.keys())):\n",
    "        link = tag.get_attribute('href')\n",
    "        gen_tuple = (tag_name,link,req_genres[tag_name])\n",
    "        genre_and_links_and_count.append(gen_tuple)\n",
    "genre_and_links_and_count"
   ]
  },
  {
   "cell_type": "code",
   "execution_count": 6,
   "metadata": {},
   "outputs": [],
   "source": [
    "def get_prod_links_in_page(link):\n",
    "    resp =requests.get(link)\n",
    "    soup = BeautifulSoup(resp.content, 'html.parser')\n",
    "    all_products_a_tags = soup.find_all('a',{'class':'_2cLu-l'})\n",
    "    prod_links = ['https://www.flipkart.com'+tag['href'] for tag in all_products_a_tags]\n",
    "    return prod_links;"
   ]
  },
  {
   "cell_type": "code",
   "execution_count": 7,
   "metadata": {},
   "outputs": [
    {
     "name": "stdout",
     "output_type": "stream",
     "text": [
      "page_state complete\n",
      "History and Archaeology Books 2\n",
      "no_iterations-26, data_tuple[2]-2000\n",
      "iteration 25\n",
      "no_iterations-26, data_tuple[2]-2000\n",
      "iteration 25\n",
      "page_state complete\n",
      "Literature Books 3\n",
      "no_iterations-19, data_tuple[2]-2000\n",
      "iteration 18\n",
      "no_iterations-19, data_tuple[2]-2000\n",
      "iteration 18\n",
      "no_iterations-19, data_tuple[2]-2000\n",
      "iteration 18\n",
      "page_state complete\n",
      "Healthy Living and Wellness Books 2\n",
      "no_iterations-14, data_tuple[2]-1000\n",
      "iteration 13\n",
      "no_iterations-14, data_tuple[2]-1000\n",
      "iteration 13\n",
      "page_state complete\n",
      "Biographies, Memoirs and General Non-Ficton Books 2\n",
      "no_iterations-14, data_tuple[2]-1000\n",
      "iteration 13\n",
      "no_iterations-14, data_tuple[2]-1000\n",
      "iteration 13\n",
      "page_state complete\n",
      "Self-Help Books 3\n",
      "no_iterations-19, data_tuple[2]-2000\n",
      "iteration 18\n",
      "no_iterations-19, data_tuple[2]-2000\n",
      "iteration 18\n",
      "no_iterations-19, data_tuple[2]-2000\n",
      "iteration 18\n",
      "page_state complete\n",
      "Philosophy and Religion Books 2\n",
      "no_iterations-14, data_tuple[2]-1000\n",
      "iteration 13\n",
      "no_iterations-14, data_tuple[2]-1000\n",
      "iteration 13\n",
      "page_state complete\n",
      "Arts, Language and Linguistic Books 1\n",
      "no_iterations-26, data_tuple[2]-1000\n",
      "iteration 25\n",
      "page_state complete\n",
      "Fiction Books 11\n",
      "no_iterations-7, data_tuple[2]-2000\n",
      "iteration 6\n",
      "no_iterations-7, data_tuple[2]-2000\n",
      "iteration 6\n",
      "no_iterations-7, data_tuple[2]-2000\n",
      "iteration 6\n",
      "no_iterations-7, data_tuple[2]-2000\n",
      "iteration 6\n",
      "no_iterations-7, data_tuple[2]-2000\n",
      "iteration 6\n",
      "no_iterations-7, data_tuple[2]-2000\n",
      "iteration 6\n",
      "no_iterations-7, data_tuple[2]-2000\n",
      "iteration 6\n",
      "no_iterations-7, data_tuple[2]-2000\n",
      "iteration 6\n",
      "no_iterations-7, data_tuple[2]-2000\n",
      "iteration 6\n",
      "no_iterations-7, data_tuple[2]-2000\n",
      "iteration 6\n",
      "no_iterations-7, data_tuple[2]-2000\n",
      "iteration 6\n"
     ]
    }
   ],
   "source": [
    "prod_links = dict()\n",
    "for data_tuple in genre_and_links_and_count:\n",
    "    genre_link = data_tuple[1]\n",
    "    driver.get(genre_link);\n",
    "    wait_till_page_loads_completely(driver)\n",
    "    expand_genre_list(driver);\n",
    "    sub_genre_a_tags = find_elements_by_class_wait(driver,'_2SvCnW')\n",
    "    del sub_genre_a_tags[-1]\n",
    "    sub_genre_links = [tag.get_attribute('href') for tag in sub_genre_a_tags]\n",
    "    \n",
    "    print(data_tuple[0],len(sub_genre_links))\n",
    "    \n",
    "    prod_links_by_genre = list()\n",
    "    for s_g_link in sub_genre_links:\n",
    "        no_iterations = round((data_tuple[2]/len(sub_genre_links))/40)\n",
    "        no_iterations += 2\n",
    "        no_iterations = 26 if no_iterations>26 else no_iterations\n",
    "        print('no_iterations-%s, data_tuple[2]-%s' %(no_iterations,data_tuple[2]))\n",
    "        for iteration in range(1,no_iterations):\n",
    "            if iteration == no_iterations-1:\n",
    "                print('iteration',iteration)\n",
    "            link = s_g_link+'&page='+str(iteration)\n",
    "            links = get_prod_links_in_page(link)\n",
    "            prod_links_by_genre.extend(links)\n",
    "    prod_links[data_tuple[0]]=prod_links_by_genre\n",
    "#prod_links"
   ]
  },
  {
   "cell_type": "code",
   "execution_count": 8,
   "metadata": {},
   "outputs": [
    {
     "name": "stdout",
     "output_type": "stream",
     "text": [
      "History and Archaeology Books 2000\n",
      "Literature Books 2160\n",
      "Healthy Living and Wellness Books 1040\n",
      "Biographies, Memoirs and General Non-Ficton Books 1040\n",
      "Self-Help Books 2160\n",
      "Philosophy and Religion Books 1040\n",
      "Arts, Language and Linguistic Books 1000\n",
      "Fiction Books 2640\n"
     ]
    }
   ],
   "source": [
    "for k,v in prod_links.items():\n",
    "    print(k,len(v))"
   ]
  },
  {
   "cell_type": "code",
   "execution_count": 9,
   "metadata": {},
   "outputs": [],
   "source": [
    "driver.quit()"
   ]
  },
  {
   "cell_type": "code",
   "execution_count": 10,
   "metadata": {},
   "outputs": [
    {
     "name": "stdout",
     "output_type": "stream",
     "text": [
      "temp_v 2000\n",
      "temp_v 2000\n",
      "temp_v 1000\n",
      "temp_v 1000\n",
      "temp_v 2000\n",
      "temp_v 1000\n",
      "temp_v 1000\n",
      "temp_v 2000\n"
     ]
    }
   ],
   "source": [
    "genre_size_dict = dict()\n",
    "for i in genre_and_links_and_count:\n",
    "    genre_size_dict[i[0]]=i[2]\n",
    "    \n",
    "for k,v in prod_links.items():\n",
    "    with open('prod_urls/'+k+'.txt','w') as file:\n",
    "        temp_v = v[:genre_size_dict[k]]\n",
    "        print('temp_v',len(temp_v))\n",
    "        for line in temp_v:\n",
    "            file.write(line+'\\n')"
   ]
  },
  {
   "cell_type": "code",
   "execution_count": null,
   "metadata": {},
   "outputs": [],
   "source": []
  },
  {
   "cell_type": "code",
   "execution_count": null,
   "metadata": {},
   "outputs": [],
   "source": []
  }
 ],
 "metadata": {
  "kernelspec": {
   "display_name": "Python 3",
   "language": "python",
   "name": "python3"
  },
  "language_info": {
   "codemirror_mode": {
    "name": "ipython",
    "version": 3
   },
   "file_extension": ".py",
   "mimetype": "text/x-python",
   "name": "python",
   "nbconvert_exporter": "python",
   "pygments_lexer": "ipython3",
   "version": "3.7.7"
  }
 },
 "nbformat": 4,
 "nbformat_minor": 4
}
