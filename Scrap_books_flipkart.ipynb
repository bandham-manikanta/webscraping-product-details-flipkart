{
 "cells": [
  {
   "cell_type": "code",
   "execution_count": 1,
   "metadata": {},
   "outputs": [],
   "source": [
    "import bs4, requests as req\n",
    "from selenium import webdriver\n",
    "from selenium.common.exceptions import WebDriverException\n",
    "\n",
    "driver = webdriver.Firefox(executable_path=\"C:\\\\Users\\\\ac29019\\\\Downloads\\\\geckodriver-v0.24.0-win64\\\\geckodriver.exe\")\n",
    "url = 'https://www.flipkart.com/';\n",
    "driver.get(url)\n",
    "\n",
    "driver.find_element_by_xpath(\"//button[@class='_2AkmmA _29YdH8']\").click();"
   ]
  },
  {
   "cell_type": "code",
   "execution_count": 2,
   "metadata": {},
   "outputs": [],
   "source": [
    "from selenium.webdriver.common.action_chains import ActionChains\n",
    "def land_on_book_main_page(driver):\n",
    "    books_menu = driver.find_element_by_xpath(\"//span[contains(text(),'Sports, Books & More')]\")\n",
    "\n",
    "    ActionChains(driver).move_to_element(books_menu).click().perform()\n",
    "    driver.find_element_by_link_text(\"Books\").click()\n",
    "    \n",
    "land_on_book_main_page(driver)"
   ]
  },
  {
   "cell_type": "code",
   "execution_count": 3,
   "metadata": {},
   "outputs": [],
   "source": [
    "# method to click on 'show more' to expand the books genes list\n",
    "def expand_genre_list(driver):\n",
    "    genres_section = driver.find_element_by_class_name('_3aoPnm')\n",
    "    driver.execute_script(\"arguments[0].getElementsByClassName('_1dJtDF _2SvCnW')[0].click()\",genres_section)"
   ]
  },
  {
   "cell_type": "code",
   "execution_count": 27,
   "metadata": {},
   "outputs": [],
   "source": [
    "land_on_book_main_page(driver)\n",
    "expand_genre_list(driver)\n",
    "book_genre_a_tags = driver.find_elements_by_class_name('_2SvCnW')\n",
    "del book_genre_a_tags[-1]\n",
    "book_genre_links = [tag.get_attribute('href') for tag in book_genre_a_tags]"
   ]
  },
  {
   "cell_type": "code",
   "execution_count": 57,
   "metadata": {},
   "outputs": [],
   "source": [
    "book_sub_genre_links = list()\n",
    "prod_links = dict()\n",
    "for b_g_link in book_genre_links:\n",
    "    driver.get(b_g_link);1\n",
    "    expand_genre_list(driver)\n",
    "    book_sub_genre_a_tags = driver.find_elements_by_class_name('_2SvCnW')\n",
    "    del book_sub_genre_a_tags[-1]\n",
    "    book_sub_genre_links = [tag.get_attribute('href') for tag in book_sub_genre_a_tags]\n",
    "    for b_s_g_link in book_sub_genre_links:\n",
    "        driver.get(b_s_g_link)\n",
    "        prod_a_tags = driver.find_elements_by_class_name('_2cLu-l')\n",
    "        links =[prod_a_tag.get_attribute('href') for prod_a_tag in prod_a_tags]\n",
    "        prod_links[b_g_link.split('/')[4]] = links\n",
    "        break;\n",
    "    break;"
   ]
  },
  {
   "cell_type": "code",
   "execution_count": 58,
   "metadata": {},
   "outputs": [
    {
     "name": "stdout",
     "output_type": "stream",
     "text": [
      "https://www.flipkart.com/feynman-lectures-physcis-vol-1-mainly-mexchanics-radiation-heat/p/itmb6ea85b84c4c8?pid=9788131792117&lid=LSTBOK97881317921178D9RKC&marketplace=FLIPKART&srno=b_1_1&otracker=browse&fm=organic&iid=0e1d266e-4aef-477a-9fff-6b134d52365d.9788131792117.SEARCH&ssid=c7i1alxweo0000001590525706155 \n",
      "\n",
      "https://www.flipkart.com/fundamentals-electric-circuits/p/itmfbt9usgghcx5e?pid=9789353165505&lid=LSTBOK9789353165505QCVSN4&marketplace=FLIPKART&srno=b_1_2&otracker=browse&fm=organic&iid=0e1d266e-4aef-477a-9fff-6b134d52365d.9789353165505.SEARCH&ssid=c7i1alxweo0000001590525706155 \n",
      "\n",
      "https://www.flipkart.com/handbook-electronics-engineering/p/itmc4f033d045098?pid=9789388137744&lid=LSTBOK9789388137744EFIYLF&marketplace=FLIPKART&srno=b_1_3&otracker=browse&fm=organic&iid=0e1d266e-4aef-477a-9fff-6b134d52365d.9789388137744.SEARCH&ssid=c7i1alxweo0000001590525706155 \n",
      "\n",
      "https://www.flipkart.com/outlines-dairy-technology/p/itmczymevghqgymd?pid=9780195611946&lid=LSTBOK9780195611946IBR5PX&marketplace=FLIPKART&srno=b_1_4&otracker=browse&fm=organic&iid=0e1d266e-4aef-477a-9fff-6b134d52365d.9780195611946.SEARCH&ssid=c7i1alxweo0000001590525706155 \n",
      "\n",
      "https://www.flipkart.com/power-electronics/p/itmdx5gzxrggchxw?pid=9788174092793&lid=LSTBOK9788174092793RXDR4N&marketplace=FLIPKART&srno=b_1_5&otracker=browse&fm=organic&iid=0e1d266e-4aef-477a-9fff-6b134d52365d.9788174092793.SEARCH&ssid=c7i1alxweo0000001590525706155 \n",
      "\n",
      "https://www.flipkart.com/engineering-circuit-analy-8e/p/itmevd2kczyudthy?pid=9781259098635&lid=LSTBOK9781259098635P8B8T2&marketplace=FLIPKART&srno=b_1_6&otracker=browse&fm=organic&iid=0e1d266e-4aef-477a-9fff-6b134d52365d.9781259098635.SEARCH&ssid=c7i1alxweo0000001590525706155 \n",
      "\n",
      "https://www.flipkart.com/ese-2020-preliminary-exam-electronics-telecommunication-engineering-objective-paper/p/itm17d9012b9c754?pid=9789388137713&lid=LSTBOK9789388137713BAEG2I&marketplace=FLIPKART&srno=b_1_7&otracker=browse&fm=organic&iid=0e1d266e-4aef-477a-9fff-6b134d52365d.9789388137713.SEARCH&ssid=c7i1alxweo0000001590525706155 \n",
      "\n",
      "https://www.flipkart.com/routing-tcp-ip-volume-ii-ccie-professional-development-2nd/p/itmf5gqjz76gagd4?pid=9789352865772&lid=LSTBOK9789352865772PCS9BH&marketplace=FLIPKART&srno=b_1_8&otracker=browse&fm=organic&iid=0e1d266e-4aef-477a-9fff-6b134d52365d.9789352865772.SEARCH&ssid=c7i1alxweo0000001590525706155 \n",
      "\n",
      "https://www.flipkart.com/electrical-machines/p/itm92aea2b78ac7e?pid=9788193590058&lid=LSTBOK9788193590058W9IPUW&marketplace=FLIPKART&srno=b_1_9&otracker=browse&fm=organic&iid=0e1d266e-4aef-477a-9fff-6b134d52365d.9788193590058.SEARCH&ssid=c7i1alxweo0000001590525706155 \n",
      "\n",
      "https://www.flipkart.com/tneb-tangedco-assistant-engineer-electrical-electronics-engineering-exam-book/p/itm74bc3a778ee1d?pid=9788172545239&lid=LSTBOK97881725452390BC0EY&marketplace=FLIPKART&srno=b_1_10&otracker=browse&fm=organic&iid=0e1d266e-4aef-477a-9fff-6b134d52365d.9788172545239.SEARCH&ssid=c7i1alxweo0000001590525706155 \n",
      "\n",
      "https://www.flipkart.com/art-electronics-south-asian/p/itmf3zh9rtmyfksh?pid=9780521689175&lid=LSTBOK97805216891750KOO4Y&marketplace=FLIPKART&srno=b_1_11&otracker=browse&fm=organic&iid=0e1d266e-4aef-477a-9fff-6b134d52365d.9780521689175.SEARCH&ssid=c7i1alxweo0000001590525706155 \n",
      "\n",
      "https://www.flipkart.com/principles-electrical-machines/p/itmdytgaguuz3t3x?pid=9788121921916&lid=LSTBOK9788121921916HETRH8&marketplace=FLIPKART&srno=b_1_12&otracker=browse&fm=organic&iid=0e1d266e-4aef-477a-9fff-6b134d52365d.9788121921916.SEARCH&ssid=c7i1alxweo0000001590525706155 \n",
      "\n",
      "https://www.flipkart.com/electric-machinery-fundamentals/p/itmevd3t7mtbrn4t?pid=9780071070522&lid=LSTBOK9780071070522T7IGWE&marketplace=FLIPKART&srno=b_1_13&otracker=browse&fm=organic&iid=0e1d266e-4aef-477a-9fff-6b134d52365d.9780071070522.SEARCH&ssid=c7i1alxweo0000001590525706155 \n",
      "\n",
      "https://www.flipkart.com/world-without-work/p/itmfhsdcuc5uujtd?pid=9780241321096&lid=LSTBOK9780241321096IENYB9&marketplace=FLIPKART&srno=b_1_14&otracker=browse&fm=organic&iid=0e1d266e-4aef-477a-9fff-6b134d52365d.9780241321096.SEARCH&ssid=c7i1alxweo0000001590525706155 \n",
      "\n",
      "https://www.flipkart.com/drdo-isro-bsnl-electronics-engineering/p/itm61e74dc7cf59e?pid=9789389269208&lid=LSTBOK9789389269208ZPLAVR&marketplace=FLIPKART&srno=b_1_15&otracker=browse&fm=organic&iid=0e1d266e-4aef-477a-9fff-6b134d52365d.9789389269208.SEARCH&ssid=c7i1alxweo0000001590525706155 \n",
      "\n",
      "https://www.flipkart.com/basic-electronics/p/itmdytcxzzhkk7be?pid=9788120319523&lid=LSTBOK978812031952370CG0W&marketplace=FLIPKART&srno=b_1_16&otracker=browse&fm=organic&iid=0e1d266e-4aef-477a-9fff-6b134d52365d.9788120319523.SEARCH&ssid=c7i1alxweo0000001590525706155 \n",
      "\n",
      "https://www.flipkart.com/one-device-peoples-history-iphone/p/itmeu242evbs57zr?pid=9780593078419&lid=LSTBOK9780593078419DV67B6&marketplace=FLIPKART&srno=b_1_17&otracker=browse&fm=organic&iid=0e1d266e-4aef-477a-9fff-6b134d52365d.9780593078419.SEARCH&ssid=c7i1alxweo0000001590525706155 \n",
      "\n",
      "https://www.flipkart.com/fundamentals-digital-circuits/p/itmf3puhb5twfj2w?pid=9788120352681&lid=LSTBOK97881203526813ZVXUK&marketplace=FLIPKART&spotlightTagId=BestvalueId_bks%2Ff50%2Fpw8&srno=b_1_18&otracker=browse&fm=organic&iid=0e1d266e-4aef-477a-9fff-6b134d52365d.9788120352681.SEARCH&ssid=c7i1alxweo0000001590525706155 \n",
      "\n",
      "https://www.flipkart.com/power-system-analysis-2nd/p/itme3gkggxf9tqyt?pid=9780198096337&lid=LSTBOK9780198096337QPF9IM&marketplace=FLIPKART&srno=b_1_19&otracker=browse&fm=organic&iid=0e1d266e-4aef-477a-9fff-6b134d52365d.9780198096337.SEARCH&ssid=c7i1alxweo0000001590525706155 \n",
      "\n",
      "https://www.flipkart.com/digital-electronics/p/itmdyth3rtvtyrjg?pid=9788122438925&lid=LSTBOK9788122438925NTJHS8&marketplace=FLIPKART&srno=b_1_20&otracker=browse&fm=organic&iid=0e1d266e-4aef-477a-9fff-6b134d52365d.9788122438925.SEARCH&ssid=c7i1alxweo0000001590525706155 \n",
      "\n",
      "https://www.flipkart.com/gate-2020/p/itm883a33c55d712?pid=9788193975664&lid=LSTBOK97881939756643CMCPD&marketplace=FLIPKART&srno=b_1_21&otracker=browse&fm=organic&iid=0e1d266e-4aef-477a-9fff-6b134d52365d.9788193975664.SEARCH&ssid=c7i1alxweo0000001590525706155 \n",
      "\n",
      "https://www.flipkart.com/modern-digital-electronics/p/itmdunzuggyrrabd?pid=9780070669116&lid=LSTBOK9780070669116CW9HRN&marketplace=FLIPKART&srno=b_1_22&otracker=browse&fm=organic&iid=0e1d266e-4aef-477a-9fff-6b134d52365d.9780070669116.SEARCH&ssid=c7i1alxweo0000001590525706155 \n",
      "\n",
      "https://www.flipkart.com/basic-formulae-book-electrical-engineering/p/itm15163e53d7dea?pid=9789387394568&lid=LSTBOK978938739456864FX18&marketplace=FLIPKART&srno=b_1_23&otracker=browse&fm=organic&iid=0e1d266e-4aef-477a-9fff-6b134d52365d.9789387394568.SEARCH&ssid=c7i1alxweo0000001590525706155 \n",
      "\n",
      "https://www.flipkart.com/gate-electronics-communication-engineering-2020/p/itmd3dd983291e61?pid=9789353433901&lid=LSTBOK9789353433901QLIEQR&marketplace=FLIPKART&srno=b_1_24&otracker=browse&fm=organic&iid=0e1d266e-4aef-477a-9fff-6b134d52365d.9789353433901.SEARCH&ssid=c7i1alxweo0000001590525706155 \n",
      "\n",
      "https://www.flipkart.com/semester-1-2-3-4-electronic-mech-tr-theory-assignment-test-solved-2014-syll/p/itm512d9e5419372?pid=9788173177835&lid=LSTBOK9788173177835ODNTDR&marketplace=FLIPKART&srno=b_1_25&otracker=browse&fm=organic&iid=0e1d266e-4aef-477a-9fff-6b134d52365d.9788173177835.SEARCH&ssid=c7i1alxweo0000001590525706155 \n",
      "\n",
      "https://www.flipkart.com/robotics-and-control/p/itmczynshjzrsvnk?pid=9780070482937&lid=LSTBOK9780070482937VNWNHO&marketplace=FLIPKART&srno=b_1_26&otracker=browse&fm=organic&iid=0e1d266e-4aef-477a-9fff-6b134d52365d.9780070482937.SEARCH&ssid=c7i1alxweo0000001590525706155 \n",
      "\n",
      "https://www.flipkart.com/electronic-measurements-instrumentation/p/itmdytt7hssqx6ch?pid=9788131721995&lid=LSTBOK9788131721995FADAAK&marketplace=FLIPKART&srno=b_1_27&otracker=browse&fm=organic&iid=0e1d266e-4aef-477a-9fff-6b134d52365d.9788131721995.SEARCH&ssid=c7i1alxweo0000001590525706155 \n",
      "\n",
      "https://www.flipkart.com/wiley-acing-gate-electronics-communication-engineering/p/itme8ds3zrrwag4f?pid=9788126598526&lid=LSTBOK9788126598526XOBPU1&marketplace=FLIPKART&srno=b_1_28&otracker=browse&fm=organic&iid=0e1d266e-4aef-477a-9fff-6b134d52365d.9788126598526.SEARCH&ssid=c7i1alxweo0000001590525706155 \n",
      "\n",
      "https://www.flipkart.com/basic-elec-linear-circuits/p/itmej3fphurarsxb?pid=9781259006463&lid=LSTBOK97812590064634GUSEE&marketplace=FLIPKART&srno=b_1_29&otracker=browse&fm=organic&iid=0e1d266e-4aef-477a-9fff-6b134d52365d.9781259006463.SEARCH&ssid=c7i1alxweo0000001590525706155 \n",
      "\n",
      "https://www.flipkart.com/digital-logic-computer-organization/p/itm973e8f4f44deb?pid=9788120329799&lid=LSTBOK97881203297998XWGT6&marketplace=FLIPKART&srno=b_1_30&otracker=browse&fm=organic&iid=0e1d266e-4aef-477a-9fff-6b134d52365d.9788120329799.SEARCH&ssid=c7i1alxweo0000001590525706155 \n",
      "\n",
      "https://www.flipkart.com/oee-objective-electronics-engineering/p/itmdyu9qycdqxhaj?pid=9788174820310&lid=LSTBOK9788174820310OIP2XM&marketplace=FLIPKART&srno=b_1_31&otracker=browse&fm=organic&iid=0e1d266e-4aef-477a-9fff-6b134d52365d.9788174820310.SEARCH&ssid=c7i1alxweo0000001590525706155 \n",
      "\n",
      "https://www.flipkart.com/introduction-automata-theory-languages-computation/p/itm8e46edb49d198?pid=9788131764619&lid=LSTBOK9788131764619PGE9H3&marketplace=FLIPKART&srno=b_1_32&otracker=browse&fm=organic&iid=0e1d266e-4aef-477a-9fff-6b134d52365d.9788131764619.SEARCH&ssid=c7i1alxweo0000001590525706155 \n",
      "\n",
      "https://www.flipkart.com/handbook-electronics-engineering/p/itmekc3g42kmzwpb?pid=9789351472018&lid=LSTBOK9789351472018CDKFQK&marketplace=FLIPKART&srno=b_1_33&otracker=browse&fm=organic&iid=0e1d266e-4aef-477a-9fff-6b134d52365d.9789351472018.SEARCH&ssid=c7i1alxweo0000001590525706155 \n",
      "\n",
      "https://www.flipkart.com/microwave-engineering/p/itmdz5ygsdb9bdhm?pid=9789332902879&lid=LSTBOK9789332902879SAMXOO&marketplace=FLIPKART&srno=b_1_34&otracker=browse&fm=organic&iid=0e1d266e-4aef-477a-9fff-6b134d52365d.9789332902879.SEARCH&ssid=c7i1alxweo0000001590525706155 \n",
      "\n",
      "https://www.flipkart.com/signals-and-systems/p/itmdx9sc5phvqbsy?pid=9788120348400&lid=LSTBOK9788120348400Q7OZR3&marketplace=FLIPKART&srno=b_1_35&otracker=browse&fm=organic&iid=0e1d266e-4aef-477a-9fff-6b134d52365d.9788120348400.SEARCH&ssid=c7i1alxweo0000001590525706155 \n",
      "\n",
      "https://www.flipkart.com/network-analysis-synthesis/p/itmczynp9675xe5r?pid=9780070144781&lid=LSTBOK9780070144781XDX026&marketplace=FLIPKART&srno=b_1_36&otracker=browse&fm=organic&iid=0e1d266e-4aef-477a-9fff-6b134d52365d.9780070144781.SEARCH&ssid=c7i1alxweo0000001590525706155 \n",
      "\n",
      "https://www.flipkart.com/electric-machinery/p/itmdwxz8asatzfff?pid=9780070530393&lid=LSTBOK9780070530393KPW3LI&marketplace=FLIPKART&srno=b_1_37&otracker=browse&fm=organic&iid=0e1d266e-4aef-477a-9fff-6b134d52365d.9780070530393.SEARCH&ssid=c7i1alxweo0000001590525706155 \n",
      "\n",
      "https://www.flipkart.com/electrical-machinery-7th/p/itmdyu8htkkaqphr?pid=9788174091734&lid=LSTBOK97881740917345NKRBT&marketplace=FLIPKART&srno=b_1_38&otracker=browse&fm=organic&iid=0e1d266e-4aef-477a-9fff-6b134d52365d.9788174091734.SEARCH&ssid=c7i1alxweo0000001590525706155 \n",
      "\n",
      "https://www.flipkart.com/vlsi-design/p/itme6yqt8s2txv9k?pid=9780198094869&lid=LSTBOK9780198094869VPNTBC&marketplace=FLIPKART&srno=b_1_39&otracker=browse&fm=organic&iid=0e1d266e-4aef-477a-9fff-6b134d52365d.9780198094869.SEARCH&ssid=c7i1alxweo0000001590525706155 \n",
      "\n",
      "https://www.flipkart.com/foundations-deterministic-stochastic-control/p/itmf4y2snwczcwwd?pid=9780817642570&lid=LSTBOK9780817642570QSPBBG&marketplace=FLIPKART&srno=b_1_40&otracker=browse&fm=organic&iid=0e1d266e-4aef-477a-9fff-6b134d52365d.9780817642570.SEARCH&ssid=c7i1alxweo0000001590525706155 \n",
      "\n"
     ]
    }
   ],
   "source": [
    "for k,v in prod_links.items():\n",
    "    for i in v:\n",
    "        print(i,'\\n')"
   ]
  },
  {
   "cell_type": "code",
   "execution_count": null,
   "metadata": {},
   "outputs": [],
   "source": []
  }
 ],
 "metadata": {
  "kernelspec": {
   "display_name": "Python 3",
   "language": "python",
   "name": "python3"
  },
  "language_info": {
   "codemirror_mode": {
    "name": "ipython",
    "version": 3
   },
   "file_extension": ".py",
   "mimetype": "text/x-python",
   "name": "python",
   "nbconvert_exporter": "python",
   "pygments_lexer": "ipython3",
   "version": "3.7.6"
  }
 },
 "nbformat": 4,
 "nbformat_minor": 4
}
