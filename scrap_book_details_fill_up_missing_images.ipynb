{
 "cells": [
  {
   "cell_type": "code",
   "execution_count": 15,
   "metadata": {},
   "outputs": [],
   "source": [
    "import glob\n",
    "import requests\n",
    "from bs4 import BeautifulSoup\n",
    "from selenium import webdriver\n",
    "import pandas as pd\n",
    "import re\n",
    "import os\n",
    "import time\n",
    "from urllib.parse import urlparse\n",
    "import random\n",
    "from multiprocessing.pool import ThreadPool\n",
    "from IPython.display import clear_output\n",
    "\n",
    "all_txt_files = glob.glob(os.getcwd()+'\\\\prod_urls\\\\*.txt')\n",
    "driver = None\n",
    "dumb_urls = ['https://www.thepythoncode.com/','https://www.geeksforgeeks.org/','https://pynative.com/','http://facebook.com/','https://www.amazon.in/','https://www.tutorialspoint.com/','https://docs.python.org/','https://chromedriver.chromium.org/','https://github.com/','https://twitter.com/']\n",
    "\n",
    "home_dir = os.getcwd()\n",
    "results_dir = home_dir + '\\\\results'\n",
    "images_dir = results_dir + '\\\\images'"
   ]
  },
  {
   "cell_type": "code",
   "execution_count": 16,
   "metadata": {},
   "outputs": [],
   "source": [
    "ultimate_dataframes = dict()"
   ]
  },
  {
   "cell_type": "code",
   "execution_count": 18,
   "metadata": {},
   "outputs": [
    {
     "data": {
      "text/plain": [
       "['E:\\\\projects-ds-ws\\\\webscraping-product-details-flipkart\\\\prod_urls\\\\Arts, Language and Linguistic Books.txt',\n",
       " 'E:\\\\projects-ds-ws\\\\webscraping-product-details-flipkart\\\\prod_urls\\\\Biographies, Memoirs and General Non-Ficton Books.txt',\n",
       " 'E:\\\\projects-ds-ws\\\\webscraping-product-details-flipkart\\\\prod_urls\\\\Fiction Books.txt',\n",
       " 'E:\\\\projects-ds-ws\\\\webscraping-product-details-flipkart\\\\prod_urls\\\\Healthy Living and Wellness Books.txt',\n",
       " 'E:\\\\projects-ds-ws\\\\webscraping-product-details-flipkart\\\\prod_urls\\\\History and Archaeology Books.txt',\n",
       " 'E:\\\\projects-ds-ws\\\\webscraping-product-details-flipkart\\\\prod_urls\\\\Literature Books.txt',\n",
       " 'E:\\\\projects-ds-ws\\\\webscraping-product-details-flipkart\\\\prod_urls\\\\Philosophy and Religion Books.txt',\n",
       " 'E:\\\\projects-ds-ws\\\\webscraping-product-details-flipkart\\\\prod_urls\\\\Self-Help Books.txt']"
      ]
     },
     "execution_count": 18,
     "metadata": {},
     "output_type": "execute_result"
    }
   ],
   "source": [
    "prod_url_txt_files = [txt_file for txt_file in glob.glob(home_dir+'\\\\prod_urls\\\\*.txt')]\n",
    "\n",
    "genres_and_links = dict()\n",
    "for filename in prod_url_txt_files:\n",
    "    with open(filename,'r') as file:\n",
    "        relative_filename = filename.split('\\\\')[-1]\n",
    "        genres_and_links[relative_filename.replace('.txt','')] = file.readlines()\n",
    "prod_url_txt_files"
   ]
  },
  {
   "cell_type": "code",
   "execution_count": 19,
   "metadata": {},
   "outputs": [
    {
     "name": "stdout",
     "output_type": "stream",
     "text": [
      "1000 - Arts, Language and Linguistic Books\n",
      "1000 - Biographies, Memoirs and General Non-Ficton Books\n",
      "2000 - Fiction Books\n",
      "1000 - Healthy Living and Wellness Books\n",
      "1999 - History and Archaeology Books\n",
      "2000 - Literature Books\n",
      "1000 - Philosophy and Religion Books\n",
      "2000 - Self-Help Books\n"
     ]
    }
   ],
   "source": [
    "for kk,vv in genres_and_links.items():\n",
    "    print(len(vv),'-',kk)"
   ]
  },
  {
   "cell_type": "code",
   "execution_count": 6,
   "metadata": {},
   "outputs": [],
   "source": [
    "def replace_multispaces_with_single_space(text):\n",
    "    text = re.sub('\\\\s+',' ',text)\n",
    "    return text"
   ]
  },
  {
   "cell_type": "code",
   "execution_count": 7,
   "metadata": {},
   "outputs": [],
   "source": [
    "def save_image(main_counter,genre,link,driver,all_image_list):\n",
    "    image_urls = set()\n",
    "    image_url = None\n",
    "        \n",
    "    i_file_name = results_dir + '\\\\images\\\\' + genre + '\\\\' +str(main_counter)+'.jpeg'\n",
    "    if i_file_name not in all_image_list:\n",
    "        driver.get(dumb_urls[random.randint(0,len(dumb_urls)-1)])\n",
    "        driver.get(link)\n",
    "        page_source = driver.page_source\n",
    "        soup_ = BeautifulSoup(page_source,'html.parser')\n",
    "        image_divs = soup_.find_all('div',{'class':'_1ov7-N'})\n",
    "        for image_div in image_divs:\n",
    "            img_elements = image_div.find_all('img')\n",
    "        for img in img_elements:\n",
    "            if img.has_attr('src'):\n",
    "                image_url = img.get('src')\n",
    "        if image_url is not None:\n",
    "            image_url = re.sub('\\\\w+?q=\\\\d+','',image_url)\n",
    "            image_url = re.sub('https://rukminim1.flixcart.com/image/\\\\d+/\\\\d+/','https://rukminim1.flixcart.com/image/512/512/',image_url)\n",
    "            url_parse_results = urlparse(image_url)\n",
    "            if all([url_parse_results.scheme, url_parse_results.netloc, url_parse_results.path]):\n",
    "                image_urls.add(image_url)\n",
    "        \n",
    "    if len(image_urls)==0:\n",
    "        image_url = 'https://img1a.flixcart.com/www/linchpin/fk-cp-zion/img/flipkart-plus_4ee2f9.png'\n",
    "        image_urls.add(image_url)\n",
    "            \n",
    "    i_names = list()\n",
    "    for i_url in image_urls:\n",
    "        if i_file_name not in all_image_list:\n",
    "            requests.get(dumb_urls[random.randint(0,len(dumb_urls)-1)])\n",
    "            i_response = requests.get(i_url)\n",
    "            with open(i_file_name, 'wb') as f:\n",
    "                f.write(i_response.content)\n",
    "        i_name = i_file_name.split('\\\\')[-1]\n",
    "        i_names.append(i_file_name)\n",
    "        break;\n",
    "    return i_names;"
   ]
  },
  {
   "cell_type": "code",
   "execution_count": 8,
   "metadata": {},
   "outputs": [
    {
     "name": "stdout",
     "output_type": "stream",
     "text": [
      "Self-Help Books\n",
      "yahooooooo!!! Completed for \" Self-Help Books \"\n"
     ]
    }
   ],
   "source": [
    "for genre, links in genres_and_links.items():\n",
    "    \n",
    "    genre_images_dir = results_dir + '\\\\images\\\\' + genre\n",
    "    if not os.path.exists(genre_images_dir):\n",
    "        os.makedirs(genre_images_dir)\n",
    "    all_image_list = glob.glob(genre_images_dir+'\\\\*.jpeg')\n",
    "\n",
    "    main_counter = 1\n",
    "    for link in links:\n",
    "        \n",
    "        if driver is None:\n",
    "            #options = webdriver.ChromeOptions()\n",
    "            #options.add_argument(\"--start-maximized\")\n",
    "            driver = webdriver.Chrome(executable_path=\"chromedriver.exe\")\n",
    "            #driver = webdriver.Firefox(executable_path='geckodriver.exe')\n",
    "        \n",
    "        #pool = ThreadPool(processes=2)\n",
    "        #async_image_results = pool.apply_async(save_image, (main_counter,genre,link,driver,all_image_list)\n",
    "        #async_image_results.get()\n",
    "        save_image(main_counter,genre,link,driver,all_image_list)\n",
    "                \n",
    "        print(main_counter)\n",
    "        if main_counter%50==0:\n",
    "            clear_output()\n",
    "            print(genre)\n",
    "        main_counter += 1\n",
    "        \n",
    "    print('yahooooooo!!! Completed for','\\\"',genre,'\\\"')"
   ]
  },
  {
   "cell_type": "code",
   "execution_count": 9,
   "metadata": {},
   "outputs": [],
   "source": [
    "if driver is not None:\n",
    "    driver.quit()"
   ]
  },
  {
   "cell_type": "code",
   "execution_count": 10,
   "metadata": {},
   "outputs": [
    {
     "name": "stdout",
     "output_type": "stream",
     "text": [
      "Everything completed. Thank god.\n"
     ]
    }
   ],
   "source": [
    "print('Everything completed. Thank god.')"
   ]
  },
  {
   "cell_type": "code",
   "execution_count": null,
   "metadata": {},
   "outputs": [],
   "source": []
  },
  {
   "cell_type": "code",
   "execution_count": null,
   "metadata": {},
   "outputs": [],
   "source": []
  }
 ],
 "metadata": {
  "kernelspec": {
   "display_name": "Python 3",
   "language": "python",
   "name": "python3"
  },
  "language_info": {
   "codemirror_mode": {
    "name": "ipython",
    "version": 3
   },
   "file_extension": ".py",
   "mimetype": "text/x-python",
   "name": "python",
   "nbconvert_exporter": "python",
   "pygments_lexer": "ipython3",
   "version": "3.7.7"
  }
 },
 "nbformat": 4,
 "nbformat_minor": 4
}
